{
  "nbformat": 4,
  "nbformat_minor": 0,
  "metadata": {
    "colab": {
      "name": "Regras.ipynb",
      "provenance": [],
      "authorship_tag": "ABX9TyNbvn+y6O4K5qsIWnACiiJE",
      "include_colab_link": true
    },
    "kernelspec": {
      "name": "python3",
      "display_name": "Python 3"
    },
    "language_info": {
      "name": "python"
    }
  },
  "cells": [
    {
      "cell_type": "markdown",
      "metadata": {
        "id": "view-in-github",
        "colab_type": "text"
      },
      "source": [
        "<a href=\"https://colab.research.google.com/github/Wilkerrods/M.L./blob/main/Regras.ipynb\" target=\"_parent\"><img src=\"https://colab.research.google.com/assets/colab-badge.svg\" alt=\"Open In Colab\"/></a>"
      ]
    },
    {
      "cell_type": "code",
      "execution_count": null,
      "metadata": {
        "id": "3rlLyL6hm67c"
      },
      "outputs": [],
      "source": [
        ""
      ]
    },
    {
      "cell_type": "markdown",
      "source": [
        "# Utilizando o método Regras, para analise de credito.\n",
        "\n",
        "OBSERVAÇÃO: Tendo como base as analises anteriores (Decision Trees/Random Forest).\n",
        "\n"
      ],
      "metadata": {
        "id": "imgHwTqonJpk"
      }
    },
    {
      "cell_type": "code",
      "source": [
        "!pip install Orange3"
      ],
      "metadata": {
        "colab": {
          "base_uri": "https://localhost:8080/"
        },
        "id": "M6lWS_a0oMOY",
        "outputId": "662fe1de-d396-438a-ef08-25437cd59b66"
      },
      "execution_count": null,
      "outputs": [
        {
          "output_type": "stream",
          "name": "stdout",
          "text": [
            "Looking in indexes: https://pypi.org/simple, https://us-python.pkg.dev/colab-wheels/public/simple/\n",
            "Requirement already satisfied: Orange3 in /usr/local/lib/python3.7/dist-packages (3.32.0)\n",
            "Requirement already satisfied: setuptools>=41.0.0 in /usr/local/lib/python3.7/dist-packages (from Orange3) (57.4.0)\n",
            "Requirement already satisfied: PyQtWebEngine>=5.12 in /usr/local/lib/python3.7/dist-packages (from Orange3) (5.15.5)\n",
            "Requirement already satisfied: keyrings.alt in /usr/local/lib/python3.7/dist-packages (from Orange3) (4.1.0)\n",
            "Requirement already satisfied: PyQt5!=5.15.1,>=5.12 in /usr/local/lib/python3.7/dist-packages (from Orange3) (5.15.6)\n",
            "Requirement already satisfied: openTSNE>=0.6.1 in /usr/local/lib/python3.7/dist-packages (from Orange3) (0.6.2)\n",
            "Requirement already satisfied: scipy>=1.3.1 in /usr/local/lib/python3.7/dist-packages (from Orange3) (1.4.1)\n",
            "Requirement already satisfied: bottleneck>=1.3.2 in /usr/local/lib/python3.7/dist-packages (from Orange3) (1.3.4)\n",
            "Requirement already satisfied: pyyaml in /usr/local/lib/python3.7/dist-packages (from Orange3) (3.13)\n",
            "Requirement already satisfied: keyring in /usr/local/lib/python3.7/dist-packages (from Orange3) (23.6.0)\n",
            "Requirement already satisfied: requests in /usr/local/lib/python3.7/dist-packages (from Orange3) (2.23.0)\n",
            "Requirement already satisfied: pygments>=2.8.0 in /usr/local/lib/python3.7/dist-packages (from Orange3) (2.12.0)\n",
            "Requirement already satisfied: pyqtgraph!=0.12.4,>=0.11.1 in /usr/local/lib/python3.7/dist-packages (from Orange3) (0.12.3)\n",
            "Requirement already satisfied: xlrd>=0.9.2 in /usr/local/lib/python3.7/dist-packages (from Orange3) (1.1.0)\n",
            "Requirement already satisfied: joblib>=0.11 in /usr/local/lib/python3.7/dist-packages (from Orange3) (1.1.0)\n",
            "Requirement already satisfied: orange-canvas-core<0.2a,>=0.1.24 in /usr/local/lib/python3.7/dist-packages (from Orange3) (0.1.26)\n",
            "Requirement already satisfied: networkx in /usr/local/lib/python3.7/dist-packages (from Orange3) (2.6.3)\n",
            "Requirement already satisfied: baycomp>=1.0.2 in /usr/local/lib/python3.7/dist-packages (from Orange3) (1.0.2)\n",
            "Requirement already satisfied: python-louvain>=0.13 in /usr/local/lib/python3.7/dist-packages (from Orange3) (0.16)\n",
            "Requirement already satisfied: AnyQt>=0.0.13 in /usr/local/lib/python3.7/dist-packages (from Orange3) (0.1.0)\n",
            "Requirement already satisfied: numpy>=1.17.3 in /usr/local/lib/python3.7/dist-packages (from Orange3) (1.21.6)\n",
            "Requirement already satisfied: matplotlib>=2.2.5 in /usr/local/lib/python3.7/dist-packages (from Orange3) (3.2.2)\n",
            "Requirement already satisfied: qtconsole>=4.7.2 in /usr/local/lib/python3.7/dist-packages (from Orange3) (5.3.0)\n",
            "Requirement already satisfied: chardet>=3.0.2 in /usr/local/lib/python3.7/dist-packages (from Orange3) (3.0.4)\n",
            "Requirement already satisfied: openpyxl in /usr/local/lib/python3.7/dist-packages (from Orange3) (3.0.10)\n",
            "Requirement already satisfied: pip>=18.0 in /usr/local/lib/python3.7/dist-packages (from Orange3) (21.1.3)\n",
            "Requirement already satisfied: serverfiles in /usr/local/lib/python3.7/dist-packages (from Orange3) (0.3.1)\n",
            "Requirement already satisfied: orange-widget-base>=4.16.1 in /usr/local/lib/python3.7/dist-packages (from Orange3) (4.17.0)\n",
            "Requirement already satisfied: httpx>=0.21.0 in /usr/local/lib/python3.7/dist-packages (from Orange3) (0.23.0)\n",
            "Requirement already satisfied: pandas>=1.3.0 in /usr/local/lib/python3.7/dist-packages (from Orange3) (1.3.5)\n",
            "Requirement already satisfied: scikit-learn>=1.0.1 in /usr/local/lib/python3.7/dist-packages (from Orange3) (1.0.2)\n",
            "Requirement already satisfied: xlsxwriter in /usr/local/lib/python3.7/dist-packages (from Orange3) (3.0.3)\n",
            "Requirement already satisfied: certifi in /usr/local/lib/python3.7/dist-packages (from httpx>=0.21.0->Orange3) (2022.5.18.1)\n",
            "Requirement already satisfied: httpcore<0.16.0,>=0.15.0 in /usr/local/lib/python3.7/dist-packages (from httpx>=0.21.0->Orange3) (0.15.0)\n",
            "Requirement already satisfied: sniffio in /usr/local/lib/python3.7/dist-packages (from httpx>=0.21.0->Orange3) (1.2.0)\n",
            "Requirement already satisfied: rfc3986[idna2008]<2,>=1.3 in /usr/local/lib/python3.7/dist-packages (from httpx>=0.21.0->Orange3) (1.5.0)\n",
            "Requirement already satisfied: h11<0.13,>=0.11 in /usr/local/lib/python3.7/dist-packages (from httpcore<0.16.0,>=0.15.0->httpx>=0.21.0->Orange3) (0.12.0)\n",
            "Requirement already satisfied: anyio==3.* in /usr/local/lib/python3.7/dist-packages (from httpcore<0.16.0,>=0.15.0->httpx>=0.21.0->Orange3) (3.6.1)\n",
            "Requirement already satisfied: idna>=2.8 in /usr/local/lib/python3.7/dist-packages (from anyio==3.*->httpcore<0.16.0,>=0.15.0->httpx>=0.21.0->Orange3) (2.10)\n",
            "Requirement already satisfied: typing-extensions in /usr/local/lib/python3.7/dist-packages (from anyio==3.*->httpcore<0.16.0,>=0.15.0->httpx>=0.21.0->Orange3) (4.2.0)\n",
            "Requirement already satisfied: python-dateutil>=2.1 in /usr/local/lib/python3.7/dist-packages (from matplotlib>=2.2.5->Orange3) (2.8.2)\n",
            "Requirement already satisfied: cycler>=0.10 in /usr/local/lib/python3.7/dist-packages (from matplotlib>=2.2.5->Orange3) (0.11.0)\n",
            "Requirement already satisfied: pyparsing!=2.0.4,!=2.1.2,!=2.1.6,>=2.0.1 in /usr/local/lib/python3.7/dist-packages (from matplotlib>=2.2.5->Orange3) (3.0.9)\n",
            "Requirement already satisfied: kiwisolver>=1.0.1 in /usr/local/lib/python3.7/dist-packages (from matplotlib>=2.2.5->Orange3) (1.4.2)\n",
            "Requirement already satisfied: importlib-metadata in /usr/local/lib/python3.7/dist-packages (from orange-canvas-core<0.2a,>=0.1.24->Orange3) (4.11.4)\n",
            "Requirement already satisfied: cachecontrol[filecache] in /usr/local/lib/python3.7/dist-packages (from orange-canvas-core<0.2a,>=0.1.24->Orange3) (0.12.11)\n",
            "Requirement already satisfied: commonmark>=0.8.1 in /usr/local/lib/python3.7/dist-packages (from orange-canvas-core<0.2a,>=0.1.24->Orange3) (0.9.1)\n",
            "Requirement already satisfied: qasync in /usr/local/lib/python3.7/dist-packages (from orange-canvas-core<0.2a,>=0.1.24->Orange3) (0.23.0)\n",
            "Requirement already satisfied: docutils in /usr/local/lib/python3.7/dist-packages (from orange-canvas-core<0.2a,>=0.1.24->Orange3) (0.17.1)\n",
            "Requirement already satisfied: dictdiffer in /usr/local/lib/python3.7/dist-packages (from orange-canvas-core<0.2a,>=0.1.24->Orange3) (0.9.0)\n",
            "Requirement already satisfied: pytz>=2017.3 in /usr/local/lib/python3.7/dist-packages (from pandas>=1.3.0->Orange3) (2022.1)\n",
            "Requirement already satisfied: PyQt5-sip<13,>=12.8 in /usr/local/lib/python3.7/dist-packages (from PyQt5!=5.15.1,>=5.12->Orange3) (12.10.1)\n",
            "Requirement already satisfied: PyQt5-Qt5>=5.15.2 in /usr/local/lib/python3.7/dist-packages (from PyQt5!=5.15.1,>=5.12->Orange3) (5.15.2)\n",
            "Requirement already satisfied: PyQtWebEngine-Qt5>=5.15.2 in /usr/local/lib/python3.7/dist-packages (from PyQtWebEngine>=5.12->Orange3) (5.15.2)\n",
            "Requirement already satisfied: six>=1.5 in /usr/local/lib/python3.7/dist-packages (from python-dateutil>=2.1->matplotlib>=2.2.5->Orange3) (1.15.0)\n",
            "Requirement already satisfied: jupyter-core in /usr/local/lib/python3.7/dist-packages (from qtconsole>=4.7.2->Orange3) (4.10.0)\n",
            "Requirement already satisfied: jupyter-client>=4.1 in /usr/local/lib/python3.7/dist-packages (from qtconsole>=4.7.2->Orange3) (5.3.5)\n",
            "Requirement already satisfied: pyzmq>=17.1 in /usr/local/lib/python3.7/dist-packages (from qtconsole>=4.7.2->Orange3) (23.0.0)\n",
            "Requirement already satisfied: ipykernel>=4.1 in /usr/local/lib/python3.7/dist-packages (from qtconsole>=4.7.2->Orange3) (4.10.1)\n",
            "Requirement already satisfied: traitlets in /usr/local/lib/python3.7/dist-packages (from qtconsole>=4.7.2->Orange3) (5.1.1)\n",
            "Requirement already satisfied: qtpy>=2.0.1 in /usr/local/lib/python3.7/dist-packages (from qtconsole>=4.7.2->Orange3) (2.1.0)\n",
            "Requirement already satisfied: ipython-genutils in /usr/local/lib/python3.7/dist-packages (from qtconsole>=4.7.2->Orange3) (0.2.0)\n",
            "Requirement already satisfied: tornado>=4.0 in /usr/local/lib/python3.7/dist-packages (from ipykernel>=4.1->qtconsole>=4.7.2->Orange3) (5.1.1)\n",
            "Requirement already satisfied: ipython>=4.0.0 in /usr/local/lib/python3.7/dist-packages (from ipykernel>=4.1->qtconsole>=4.7.2->Orange3) (5.5.0)\n",
            "Requirement already satisfied: prompt-toolkit<2.0.0,>=1.0.4 in /usr/local/lib/python3.7/dist-packages (from ipython>=4.0.0->ipykernel>=4.1->qtconsole>=4.7.2->Orange3) (1.0.18)\n",
            "Requirement already satisfied: pickleshare in /usr/local/lib/python3.7/dist-packages (from ipython>=4.0.0->ipykernel>=4.1->qtconsole>=4.7.2->Orange3) (0.7.5)\n",
            "Requirement already satisfied: decorator in /usr/local/lib/python3.7/dist-packages (from ipython>=4.0.0->ipykernel>=4.1->qtconsole>=4.7.2->Orange3) (4.4.2)\n",
            "Requirement already satisfied: simplegeneric>0.8 in /usr/local/lib/python3.7/dist-packages (from ipython>=4.0.0->ipykernel>=4.1->qtconsole>=4.7.2->Orange3) (0.8.1)\n",
            "Requirement already satisfied: pexpect in /usr/local/lib/python3.7/dist-packages (from ipython>=4.0.0->ipykernel>=4.1->qtconsole>=4.7.2->Orange3) (4.8.0)\n",
            "Requirement already satisfied: wcwidth in /usr/local/lib/python3.7/dist-packages (from prompt-toolkit<2.0.0,>=1.0.4->ipython>=4.0.0->ipykernel>=4.1->qtconsole>=4.7.2->Orange3) (0.2.5)\n",
            "Requirement already satisfied: packaging in /usr/local/lib/python3.7/dist-packages (from qtpy>=2.0.1->qtconsole>=4.7.2->Orange3) (21.3)\n",
            "Requirement already satisfied: threadpoolctl>=2.0.0 in /usr/local/lib/python3.7/dist-packages (from scikit-learn>=1.0.1->Orange3) (3.1.0)\n",
            "Requirement already satisfied: msgpack>=0.5.2 in /usr/local/lib/python3.7/dist-packages (from cachecontrol[filecache]->orange-canvas-core<0.2a,>=0.1.24->Orange3) (1.0.3)\n",
            "Requirement already satisfied: lockfile>=0.9 in /usr/local/lib/python3.7/dist-packages (from cachecontrol[filecache]->orange-canvas-core<0.2a,>=0.1.24->Orange3) (0.12.2)\n",
            "Requirement already satisfied: zipp>=0.5 in /usr/local/lib/python3.7/dist-packages (from importlib-metadata->orange-canvas-core<0.2a,>=0.1.24->Orange3) (3.8.0)\n",
            "Requirement already satisfied: SecretStorage>=3.2 in /usr/local/lib/python3.7/dist-packages (from keyring->Orange3) (3.3.2)\n",
            "Requirement already satisfied: jeepney>=0.4.2 in /usr/local/lib/python3.7/dist-packages (from keyring->Orange3) (0.8.0)\n",
            "Requirement already satisfied: cryptography>=2.0 in /usr/local/lib/python3.7/dist-packages (from SecretStorage>=3.2->keyring->Orange3) (37.0.2)\n",
            "Requirement already satisfied: cffi>=1.12 in /usr/local/lib/python3.7/dist-packages (from cryptography>=2.0->SecretStorage>=3.2->keyring->Orange3) (1.15.0)\n",
            "Requirement already satisfied: pycparser in /usr/local/lib/python3.7/dist-packages (from cffi>=1.12->cryptography>=2.0->SecretStorage>=3.2->keyring->Orange3) (2.21)\n",
            "Requirement already satisfied: et-xmlfile in /usr/local/lib/python3.7/dist-packages (from openpyxl->Orange3) (1.1.0)\n",
            "Requirement already satisfied: ptyprocess>=0.5 in /usr/local/lib/python3.7/dist-packages (from pexpect->ipython>=4.0.0->ipykernel>=4.1->qtconsole>=4.7.2->Orange3) (0.7.0)\n",
            "Requirement already satisfied: urllib3!=1.25.0,!=1.25.1,<1.26,>=1.21.1 in /usr/local/lib/python3.7/dist-packages (from requests->Orange3) (1.24.3)\n"
          ]
        }
      ]
    },
    {
      "cell_type": "code",
      "source": [
        "import Orange"
      ],
      "metadata": {
        "id": "Ay0TXza7omIz"
      },
      "execution_count": null,
      "outputs": []
    },
    {
      "cell_type": "markdown",
      "source": [
        "#Utilizando a Base de risco de Credito"
      ],
      "metadata": {
        "id": "nAXkh3vWosJi"
      }
    },
    {
      "cell_type": "code",
      "source": [
        "base_risco_credito = Orange.data.Table('risco_credito_regras.csv')"
      ],
      "metadata": {
        "id": "3JJP3nEjoxLX"
      },
      "execution_count": null,
      "outputs": []
    },
    {
      "cell_type": "code",
      "source": [
        "base_risco_credito"
      ],
      "metadata": {
        "colab": {
          "base_uri": "https://localhost:8080/"
        },
        "id": "87lUxnOIpDHQ",
        "outputId": "b6aa395c-6d0b-417f-b103-c13968aa875c"
      },
      "execution_count": null,
      "outputs": [
        {
          "output_type": "execute_result",
          "data": {
            "text/plain": [
              "[[ruim, alta, nenhuma, 0_15 | alto],\n",
              " [desconhecida, alta, nenhuma, 15_35 | alto],\n",
              " [desconhecida, baixa, nenhuma, 15_35 | moderado],\n",
              " [desconhecida, baixa, nenhuma, acima_35 | alto],\n",
              " [desconhecida, baixa, nenhuma, acima_35 | baixo],\n",
              " ...\n",
              "]"
            ]
          },
          "metadata": {},
          "execution_count": 6
        }
      ]
    },
    {
      "cell_type": "code",
      "source": [
        "base_risco_credito.domain"
      ],
      "metadata": {
        "colab": {
          "base_uri": "https://localhost:8080/"
        },
        "id": "fJpdQnjTphvB",
        "outputId": "126f97fd-29cb-4290-b02e-2cb0eeada23c"
      },
      "execution_count": null,
      "outputs": [
        {
          "output_type": "execute_result",
          "data": {
            "text/plain": [
              "[historia, divida, garantias, renda | risco]"
            ]
          },
          "metadata": {},
          "execution_count": 7
        }
      ]
    },
    {
      "cell_type": "code",
      "source": [
        "cn2 = Orange.classification.rules.CN2Learner()\n",
        "regras_risco_credito = cn2(base_risco_credito)\n"
      ],
      "metadata": {
        "id": "zBqMNTbXpo-h"
      },
      "execution_count": null,
      "outputs": []
    },
    {
      "cell_type": "code",
      "source": [
        "for regras in regras_risco_credito.rule_list:\n",
        "  print(regras)"
      ],
      "metadata": {
        "colab": {
          "base_uri": "https://localhost:8080/"
        },
        "id": "uj19n9yDqDgQ",
        "outputId": "05c7c64c-a9f1-4850-f034-134be643af29"
      },
      "execution_count": null,
      "outputs": [
        {
          "output_type": "stream",
          "name": "stdout",
          "text": [
            "IF renda==0_15 THEN risco=alto \n",
            "IF historia==boa AND divida!=alta THEN risco=baixo \n",
            "IF historia==boa AND garantias!=nenhuma THEN risco=baixo \n",
            "IF historia==boa AND renda!=15_35 THEN risco=baixo \n",
            "IF historia==boa THEN risco=moderado \n",
            "IF divida==alta THEN risco=alto \n",
            "IF historia!=desconhecida THEN risco=moderado \n",
            "IF garantias==adequada THEN risco=baixo \n",
            "IF renda==15_35 THEN risco=moderado \n",
            "IF historia==desconhecida THEN risco=alto \n",
            "IF TRUE THEN risco=alto \n"
          ]
        }
      ]
    },
    {
      "cell_type": "markdown",
      "source": [
        "**Utilizando algumas variáveis para fazer algumas**"
      ],
      "metadata": {
        "id": "o9S-QqBCJp0S"
      }
    },
    {
      "cell_type": "markdown",
      "source": [
        "#####1° - história boa (0), divida: alta(0), garantias: nenhuma(1), renda > 35 (2)\n",
        "#####2° - história: ruim(2), divida:alta(0), garantias: adequadas(0), renda < 15(0)"
      ],
      "metadata": {
        "id": "2_qM7eJCJ0mi"
      }
    },
    {
      "cell_type": "markdown",
      "source": [
        " Observação: Como o algoritimo consegue trabalhar com atributos categoricos, não será necessario fazer a converção com Label Encoder"
      ],
      "metadata": {
        "id": "yt2tFDFbQEQZ"
      }
    },
    {
      "cell_type": "code",
      "source": [
        "previsoes = regras_risco_credito([['boa', 'alta', 'nenhuma', 'acima_35'], ['ruim', 'alta', 'adequada', '0_15']])\n",
        "previsoes"
      ],
      "metadata": {
        "id": "B-3ZTjGDqJym",
        "colab": {
          "base_uri": "https://localhost:8080/"
        },
        "outputId": "3e1f942f-daa0-4b92-e139-f31387619bed"
      },
      "execution_count": null,
      "outputs": [
        {
          "output_type": "execute_result",
          "data": {
            "text/plain": [
              "array([1, 0])"
            ]
          },
          "metadata": {},
          "execution_count": 11
        }
      ]
    },
    {
      "cell_type": "code",
      "source": [
        "base_risco_credito.domain.class_var.values"
      ],
      "metadata": {
        "colab": {
          "base_uri": "https://localhost:8080/"
        },
        "id": "E3v47kgzRK-8",
        "outputId": "c11d1181-c686-48e9-fb71-a3d16f5b37f8"
      },
      "execution_count": null,
      "outputs": [
        {
          "output_type": "execute_result",
          "data": {
            "text/plain": [
              "('alto', 'baixo', 'moderado')"
            ]
          },
          "metadata": {},
          "execution_count": 13
        }
      ]
    },
    {
      "cell_type": "code",
      "source": [
        "for i in previsoes:\n",
        "  #print(i)\n",
        "  print(base_risco_credito.domain.class_var.values[i])\n"
      ],
      "metadata": {
        "colab": {
          "base_uri": "https://localhost:8080/"
        },
        "id": "ZsX9tNaBRSwK",
        "outputId": "8bfbf6d9-04a7-4580-a371-42817031064c"
      },
      "execution_count": null,
      "outputs": [
        {
          "output_type": "stream",
          "name": "stdout",
          "text": [
            "baixo\n",
            "alto\n"
          ]
        }
      ]
    },
    {
      "cell_type": "markdown",
      "source": [
        "#Utilizando a Base de Credito"
      ],
      "metadata": {
        "id": "df796MZVSu_c"
      }
    },
    {
      "cell_type": "code",
      "source": [
        "credit_data = Orange.data.Table('/content/credit_data_regras.csv')"
      ],
      "metadata": {
        "id": "RLwGWO9MRmqg"
      },
      "execution_count": null,
      "outputs": []
    },
    {
      "cell_type": "code",
      "source": [
        "credit_data"
      ],
      "metadata": {
        "colab": {
          "base_uri": "https://localhost:8080/"
        },
        "id": "q_AnaHiDTwnI",
        "outputId": "08644e32-ab0e-44cc-b30b-d94d9d501e94"
      },
      "execution_count": null,
      "outputs": [
        {
          "output_type": "execute_result",
          "data": {
            "text/plain": [
              "[[66155.9, 59.017, 8106.53 | 0],\n",
              " [34415.2, 48.1172, 6564.75 | 0],\n",
              " [57317.2, 63.108, 8020.95 | 0],\n",
              " [42709.5, 45.752, 6103.64 | 0],\n",
              " [66952.7, 18.5843, 8770.1 | 1],\n",
              " ...\n",
              "]"
            ]
          },
          "metadata": {},
          "execution_count": 30
        }
      ]
    },
    {
      "cell_type": "code",
      "source": [
        "credit_data.domain"
      ],
      "metadata": {
        "colab": {
          "base_uri": "https://localhost:8080/"
        },
        "id": "Ei_EuKmcTxq6",
        "outputId": "dfac2b2f-3d3a-4e5f-aceb-fbcfeeac9ae7"
      },
      "execution_count": null,
      "outputs": [
        {
          "output_type": "execute_result",
          "data": {
            "text/plain": [
              "[income, age, loan | default]"
            ]
          },
          "metadata": {},
          "execution_count": 31
        }
      ]
    },
    {
      "cell_type": "code",
      "source": [
        "base_1 = Orange.evaluation.testing.sample(credit_data, n = 0.25)"
      ],
      "metadata": {
        "id": "cbXSy-eYVtx_"
      },
      "execution_count": null,
      "outputs": []
    },
    {
      "cell_type": "code",
      "source": [
        "base_1"
      ],
      "metadata": {
        "colab": {
          "base_uri": "https://localhost:8080/"
        },
        "id": "cWD43yWfV_sF",
        "outputId": "f5b4ba45-88ad-476e-dc0f-a0b6cde34e34"
      },
      "execution_count": null,
      "outputs": [
        {
          "output_type": "execute_result",
          "data": {
            "text/plain": [
              "([[25032.3, 46.3106, 680.905 | 0],\n",
              "  [41183.8, 56.0324, 7606.99 | 0],\n",
              "  [25289.6, 21.2806, 2130.79 | 0],\n",
              "  [64675.8, 30.5151, 4628.6 | 0],\n",
              "  [58581, 56.627, 4317.72 | 0],\n",
              "  ...\n",
              " ], [[52986, 50.4238, 4928.61 | 0],\n",
              "  [37887.5, 24.4157, 5061.78 | 1],\n",
              "  [47541.6, 55.2346, 1611.22 | 0],\n",
              "  [52743.3, 44.0485, 2684.7 | 0],\n",
              "  [58038.9, 54.0021, 538.231 | 0],\n",
              "  ...\n",
              " ])"
            ]
          },
          "metadata": {},
          "execution_count": 35
        }
      ]
    },
    {
      "cell_type": "code",
      "source": [
        "base_1[0]"
      ],
      "metadata": {
        "colab": {
          "base_uri": "https://localhost:8080/"
        },
        "id": "X1HvGa12W49c",
        "outputId": "4d1c7a33-d835-40ae-a22f-ac9d0ea3d135"
      },
      "execution_count": null,
      "outputs": [
        {
          "output_type": "execute_result",
          "data": {
            "text/plain": [
              "[[25032.3, 46.3106, 680.905 | 0],\n",
              " [41183.8, 56.0324, 7606.99 | 0],\n",
              " [25289.6, 21.2806, 2130.79 | 0],\n",
              " [64675.8, 30.5151, 4628.6 | 0],\n",
              " [58581, 56.627, 4317.72 | 0],\n",
              " ...\n",
              "]"
            ]
          },
          "metadata": {},
          "execution_count": 38
        }
      ]
    },
    {
      "cell_type": "code",
      "source": [
        "base_1[1]"
      ],
      "metadata": {
        "colab": {
          "base_uri": "https://localhost:8080/"
        },
        "id": "ZsjkK9KyW9Mf",
        "outputId": "c176fd6c-b1b9-429e-f87a-39c389c85362"
      },
      "execution_count": null,
      "outputs": [
        {
          "output_type": "execute_result",
          "data": {
            "text/plain": [
              "[[52986, 50.4238, 4928.61 | 0],\n",
              " [37887.5, 24.4157, 5061.78 | 1],\n",
              " [47541.6, 55.2346, 1611.22 | 0],\n",
              " [52743.3, 44.0485, 2684.7 | 0],\n",
              " [58038.9, 54.0021, 538.231 | 0],\n",
              " ...\n",
              "]"
            ]
          },
          "metadata": {},
          "execution_count": 39
        }
      ]
    },
    {
      "cell_type": "code",
      "source": [
        "base_treinamento = base_1[1]\n",
        "base_teste = base_1[0]\n"
      ],
      "metadata": {
        "id": "i2LTPnZLWEr6"
      },
      "execution_count": null,
      "outputs": []
    },
    {
      "cell_type": "code",
      "source": [
        "len(base_treinamento), len(base_teste)"
      ],
      "metadata": {
        "colab": {
          "base_uri": "https://localhost:8080/"
        },
        "id": "2_y35A6WXIx2",
        "outputId": "676bd6cb-01a8-448e-e79f-36a05f1ccccb"
      },
      "execution_count": null,
      "outputs": [
        {
          "output_type": "execute_result",
          "data": {
            "text/plain": [
              "(1500, 500)"
            ]
          },
          "metadata": {},
          "execution_count": 41
        }
      ]
    },
    {
      "cell_type": "code",
      "source": [
        "cn2 = Orange.classification.rules.CN2Learner()\n",
        "regras_credit_data = cn2(base_treinamento)"
      ],
      "metadata": {
        "id": "eNOSNA2uT4is"
      },
      "execution_count": null,
      "outputs": []
    },
    {
      "cell_type": "code",
      "source": [
        "for regras in regras_credit_data.rule_list:\n",
        "  print(regras)"
      ],
      "metadata": {
        "colab": {
          "base_uri": "https://localhost:8080/"
        },
        "id": "ptlrBdN-UB8e",
        "outputId": "4332b141-f4a9-4120-dc0b-ee6b93bab85a"
      },
      "execution_count": null,
      "outputs": [
        {
          "output_type": "stream",
          "name": "stdout",
          "text": [
            "IF age>=34.9966813726351 THEN default=0 \n",
            "IF income>=69478.3987640403 THEN default=1 \n",
            "IF loan<=2495.13299137587 AND income>=20145.9885970689 THEN default=0 \n",
            "IF loan>=7708.31562497011 AND age>=20.6656169872731 THEN default=1 \n",
            "IF income>=58609.13148382679 AND age>=20.5852316911332 THEN default=0 \n",
            "IF income<=31702.3342987522 AND loan>=3682.8619314122707 THEN default=1 \n",
            "IF income<=22089.8374845274 AND age>=21.3656869572587 THEN default=1 \n",
            "IF loan<=5836.56338145928 AND income>=45971.133494749694 THEN default=0 \n",
            "IF income>=45898.513523861795 AND age>=29.636369307525502 THEN default=1 \n",
            "IF income>=45898.513523861795 AND age>=29.417216334492 THEN default=0 \n",
            "IF income>=45898.513523861795 AND age>=23.5900381784886 THEN default=1 \n",
            "IF income>=45986.3534010947 AND age>=22.9615335506387 THEN default=0 \n",
            "IF income>=45986.3534010947 AND age>=20.4952215258963 THEN default=1 \n",
            "IF income>=45986.3534010947 AND age>=20.3008601283655 THEN default=0 \n",
            "IF loan>=4849.33378471958 AND loan>=7708.31562497011 THEN default=1 \n",
            "IF income>=52841.5164374746 THEN default=0 \n",
            "IF income>=45986.3534010947 THEN default=1 \n",
            "IF income>=45311.831838917 THEN default=0 \n",
            "IF loan>=5233.66322803221 THEN default=1 \n",
            "IF loan<=2971.00330971188 AND income>=24857.6948815025 THEN default=0 \n",
            "IF income>=29724.4768752716 AND income>=40496.2558229454 THEN default=0 \n",
            "IF loan>=4849.33378471958 THEN default=1 \n",
            "IF income>=29724.4768752716 AND income>=33093.9618567936 THEN default=0 \n",
            "IF age>=32.516422502230895 THEN default=1 \n",
            "IF income>=29724.4768752716 THEN default=0 \n",
            "IF income>=25640.0788831525 THEN default=1 \n",
            "IF income<=22089.8374845274 THEN default=0 \n",
            "IF TRUE THEN default=0 \n"
          ]
        }
      ]
    },
    {
      "cell_type": "code",
      "source": [
        "previsoes = Orange.evaluation.testing.TestOnTestData(base_treinamento, base_teste, [lambda testdata: regras_credit_data])"
      ],
      "metadata": {
        "id": "6lTeQvrVUx3G"
      },
      "execution_count": null,
      "outputs": []
    },
    {
      "cell_type": "code",
      "source": [
        "previsoes"
      ],
      "metadata": {
        "colab": {
          "base_uri": "https://localhost:8080/"
        },
        "id": "xw-htkEUXgqn",
        "outputId": "99c23480-8981-4080-823e-9e5ee99fc8ef"
      },
      "execution_count": null,
      "outputs": [
        {
          "output_type": "execute_result",
          "data": {
            "text/plain": [
              "<Orange.evaluation.testing.Results at 0x7f947e00aad0>"
            ]
          },
          "metadata": {},
          "execution_count": 46
        }
      ]
    },
    {
      "cell_type": "code",
      "source": [
        "Orange.evaluation.CA(previsoes)"
      ],
      "metadata": {
        "colab": {
          "base_uri": "https://localhost:8080/"
        },
        "id": "zbCE2CZqYE6E",
        "outputId": "2fc8a81c-a41a-4842-da62-2b3abccbfe92"
      },
      "execution_count": null,
      "outputs": [
        {
          "output_type": "execute_result",
          "data": {
            "text/plain": [
              "array([0.98])"
            ]
          },
          "metadata": {},
          "execution_count": 49
        }
      ]
    },
    {
      "cell_type": "markdown",
      "source": [
        "Accuracy = 98%"
      ],
      "metadata": {
        "id": "5XiDRqkjYYhV"
      }
    },
    {
      "cell_type": "code",
      "source": [
        ""
      ],
      "metadata": {
        "id": "bVQsRfkfYIvW"
      },
      "execution_count": null,
      "outputs": []
    }
  ]
}